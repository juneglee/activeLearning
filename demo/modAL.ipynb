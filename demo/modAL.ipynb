{
 "cells": [
  {
   "cell_type": "code",
   "execution_count": 1,
   "id": "e1175704",
   "metadata": {
    "pycharm": {
     "name": "#%%\n"
    }
   },
   "outputs": [],
   "source": [
    "import torch\n",
    "import numpy as np\n",
    "\n",
    "import torch.nn as nn\n",
    "from torch.utils.data import DataLoader\n",
    "from torchvision.transforms import ToTensor\n",
    "from torchvision import datasets\n",
    "from skorch import NeuralNetClassifier\n",
    "\n",
    "from modAL.models import ActiveLearner"
   ]
  },
  {
   "cell_type": "code",
   "execution_count": 2,
   "id": "e2062594",
   "metadata": {
    "pycharm": {
     "name": "#%%\n"
    }
   },
   "outputs": [],
   "source": [
    "device = \"cuda\" if torch.cuda.is_available() else \"cpu\""
   ]
  },
  {
   "cell_type": "code",
   "execution_count": 3,
   "id": "ca05bac2",
   "metadata": {
    "pycharm": {
     "name": "#%%\n"
    }
   },
   "outputs": [],
   "source": [
    "# build class for the skorch API\n",
    "class Torch_Model(nn.Module):\n",
    "    def __init__(self,):\n",
    "        super(Torch_Model, self).__init__()\n",
    "        self.convs = nn.Sequential(\n",
    "                                nn.Conv2d(1,32,3),\n",
    "                                nn.ReLU(),\n",
    "                                nn.Conv2d(32,64,3),\n",
    "                                nn.ReLU(),\n",
    "                                nn.MaxPool2d(2),\n",
    "                                nn.Dropout(0.25)\n",
    "        )\n",
    "        self.fcs = nn.Sequential(\n",
    "                                nn.Linear(12*12*64,128),\n",
    "                                nn.ReLU(),\n",
    "                                nn.Dropout(0.5),\n",
    "                                nn.Linear(128,10),\n",
    "        )\n",
    "\n",
    "    def forward(self, x):\n",
    "        out = x\n",
    "        out = self.convs(out)\n",
    "        out = out.view(-1,12*12*64)\n",
    "        out = self.fcs(out)\n",
    "        return out\n"
   ]
  },
  {
   "cell_type": "code",
   "execution_count": 4,
   "id": "d584636d",
   "metadata": {
    "pycharm": {
     "name": "#%%\n"
    }
   },
   "outputs": [],
   "source": [
    "dataroot = '../data/'\n",
    "data = datasets.MNIST(root=dataroot, download=True, transform=ToTensor())"
   ]
  },
  {
   "cell_type": "code",
   "execution_count": 5,
   "id": "ed03305c",
   "metadata": {
    "pycharm": {
     "name": "#%%\n"
    }
   },
   "outputs": [],
   "source": [
    "from sklearn.model_selection import train_test_split\n",
    "\n",
    "train_data, test_data = train_test_split(data, test_size=0.2, random_state=42)"
   ]
  },
  {
   "cell_type": "code",
   "execution_count": 6,
   "id": "38d0a73a",
   "metadata": {
    "pycharm": {
     "name": "#%%\n"
    }
   },
   "outputs": [],
   "source": [
    "train_dataloader = DataLoader(train_data, shuffle=True, batch_size=48000)\n",
    "test_dataloader  = DataLoader(test_data , shuffle=False, batch_size=12000)\n",
    "X_train, y_train = next(iter(train_dataloader))\n",
    "X_test , y_test  = next(iter(test_dataloader))"
   ]
  },
  {
   "cell_type": "code",
   "execution_count": 7,
   "id": "06677cf1",
   "metadata": {
    "pycharm": {
     "name": "#%%\n"
    }
   },
   "outputs": [],
   "source": [
    "X_train = X_train.reshape(48000, 1, 28, 28)\n",
    "X_test = X_test.reshape(12000, 1, 28, 28)"
   ]
  },
  {
   "cell_type": "code",
   "execution_count": 8,
   "id": "1648a508",
   "metadata": {
    "pycharm": {
     "name": "#%%\n"
    }
   },
   "outputs": [],
   "source": [
    "X_train = X_train.detach().cpu().numpy()\n",
    "y_train = y_train.detach().cpu().numpy()\n",
    "X_test = X_test.detach().cpu().numpy()\n",
    "y_test = y_test.detach().cpu().numpy()"
   ]
  },
  {
   "cell_type": "code",
   "execution_count": 9,
   "id": "70fc682c",
   "metadata": {
    "pycharm": {
     "name": "#%%\n"
    }
   },
   "outputs": [
    {
     "name": "stderr",
     "output_type": "stream",
     "text": [
      "/var/folders/hy/9nmpvpqn4kq7nc9r17__lk780000gn/T/ipykernel_37787/3037097391.py:1: DeprecationWarning: `np.int` is a deprecated alias for the builtin `int`. To silence this warning, use `int` by itself. Doing this will not modify any behavior and is safe. When replacing `np.int`, you may wish to use e.g. `np.int64` or `np.int32` to specify the precision. If you wish to review your current use, check the release note link for additional information.\n",
      "Deprecated in NumPy 1.20; for more details and guidance: https://numpy.org/devdocs/release/1.20.0-notes.html#deprecations\n",
      "  initial_idx = np.array([],dtype=np.int)\n"
     ]
    }
   ],
   "source": [
    "initial_idx = np.array([],dtype=np.int)\n",
    "for i in range(10):\n",
    "    idx = np.random.choice(np.where(y_train==i)[0], size=2, replace=False)\n",
    "    initial_idx = np.concatenate((initial_idx, idx))\n",
    "\n",
    "X_initial = X_train[initial_idx]\n",
    "y_initial = y_train[initial_idx]"
   ]
  },
  {
   "cell_type": "code",
   "execution_count": 10,
   "id": "5cde4f39",
   "metadata": {
    "pycharm": {
     "name": "#%%\n"
    }
   },
   "outputs": [],
   "source": [
    "X_pool = np.delete(X_train, initial_idx, axis=0)\n",
    "y_pool = np.delete(y_train, initial_idx, axis=0)"
   ]
  },
  {
   "cell_type": "code",
   "execution_count": 12,
   "id": "26c43541",
   "metadata": {
    "pycharm": {
     "name": "#%%\n"
    }
   },
   "outputs": [],
   "source": [
    "def uniform(learner, X, n_instances=1):\n",
    "    query_idx = np.random.choice(range(len(X)), size=n_instances, replace=False)\n",
    "    return query_idx, X[query_idx]\n",
    "\n",
    "def max_entropy(learner, X, n_instances=1, T=100):\n",
    "    random_subset = np.random.choice(range(len(X)), size=2000, replace=False)\n",
    "    with torch.no_grad():\n",
    "        outputs = np.stack([torch.softmax(learner.estimator.forward(X[random_subset], training=True),dim=-1).cpu().numpy()\n",
    "                            for t in range(100)])\n",
    "    pc = outputs.mean(axis=0)\n",
    "    acquisition = (-pc*np.log(pc + 1e-10)).sum(axis=-1)\n",
    "    idx = (-acquisition).argsort()[:n_instances]\n",
    "    query_idx = random_subset[idx]\n",
    "    return query_idx, X[query_idx]\n",
    "\n",
    "def bald(learner, X, n_instances=1, T=100):\n",
    "    random_subset = np.random.choice(range(len(X)), size=2000, replace=False)\n",
    "    with torch.no_grad():\n",
    "        outputs = np.stack([torch.softmax(learner.estimator.forward(X[random_subset], training=True),dim=-1).cpu().numpy()\n",
    "                            for t in range(100)])\n",
    "    pc = outputs.mean(axis=0)\n",
    "    H   = (-pc*np.log(pc + 1e-10)).sum(axis=-1)\n",
    "    E_H = - np.mean(np.sum(outputs * np.log(outputs + 1e-10), axis=-1), axis=0)  # [batch size]\n",
    "    acquisition = H - E_H\n",
    "    idx = (-acquisition).argsort()[:n_instances]\n",
    "    query_idx = random_subset[idx]\n",
    "    return query_idx, X[query_idx]    \n"
   ]
  },
  {
   "cell_type": "code",
   "execution_count": 13,
   "id": "0e083502",
   "metadata": {
    "pycharm": {
     "name": "#%%\n"
    }
   },
   "outputs": [],
   "source": [
    "def active_learning_procedure(query_strategy,\n",
    "                              X_test,\n",
    "                              y_test,\n",
    "                              X_pool,\n",
    "                              y_pool,\n",
    "                              X_initial,\n",
    "                              y_initial,\n",
    "                              estimator,\n",
    "                              n_queries=100,\n",
    "                              n_instances=10):\n",
    "    learner = ActiveLearner(estimator=estimator,\n",
    "                            X_training=X_initial,\n",
    "                            y_training=y_initial,\n",
    "                            query_strategy=query_strategy,\n",
    "                           )\n",
    "    perf_hist = [learner.score(X_test, y_test)]\n",
    "    for index in range(n_queries):\n",
    "        query_idx, query_instance = learner.query(X_pool, n_instances)\n",
    "        learner.teach(X_pool[query_idx], y_pool[query_idx])\n",
    "        X_pool = np.delete(X_pool, query_idx, axis=0)\n",
    "        y_pool = np.delete(y_pool, query_idx, axis=0)\n",
    "        model_accuracy = learner.score(X_test, y_test)\n",
    "        print('Accuracy after query {n}: {acc:0.4f}'.format(n=index + 1, acc=model_accuracy))\n",
    "        perf_hist.append(model_accuracy)\n",
    "    return perf_hist"
   ]
  },
  {
   "cell_type": "code",
   "execution_count": 14,
   "id": "799c7fe6",
   "metadata": {
    "pycharm": {
     "name": "#%%\n"
    }
   },
   "outputs": [
    {
     "name": "stdout",
     "output_type": "stream",
     "text": [
      "Accuracy after query 1: 0.6726\n",
      "Accuracy after query 2: 0.7317\n",
      "Accuracy after query 3: 0.7124\n",
      "Accuracy after query 4: 0.7044\n",
      "Accuracy after query 5: 0.7244\n",
      "Accuracy after query 6: 0.7442\n",
      "Accuracy after query 7: 0.7347\n",
      "Accuracy after query 8: 0.7467\n",
      "Accuracy after query 9: 0.7799\n",
      "Accuracy after query 10: 0.8181\n",
      "Accuracy after query 11: 0.8027\n",
      "Accuracy after query 12: 0.7867\n",
      "Accuracy after query 13: 0.7995\n",
      "Accuracy after query 14: 0.8219\n",
      "Accuracy after query 15: 0.8281\n",
      "Accuracy after query 16: 0.8350\n",
      "Accuracy after query 17: 0.8485\n",
      "Accuracy after query 18: 0.8391\n",
      "Accuracy after query 19: 0.8699\n",
      "Accuracy after query 20: 0.8691\n",
      "Accuracy after query 21: 0.8634\n",
      "Accuracy after query 22: 0.8548\n",
      "Accuracy after query 23: 0.8749\n",
      "Accuracy after query 24: 0.8624\n",
      "Accuracy after query 25: 0.8767\n",
      "Accuracy after query 26: 0.8801\n",
      "Accuracy after query 27: 0.8660\n",
      "Accuracy after query 28: 0.8962\n",
      "Accuracy after query 29: 0.9092\n",
      "Accuracy after query 30: 0.9195\n",
      "Accuracy after query 31: 0.9091\n",
      "Accuracy after query 32: 0.9022\n",
      "Accuracy after query 33: 0.9113\n",
      "Accuracy after query 34: 0.9191\n",
      "Accuracy after query 35: 0.9213\n",
      "Accuracy after query 36: 0.9171\n",
      "Accuracy after query 37: 0.9259\n",
      "Accuracy after query 38: 0.9357\n",
      "Accuracy after query 39: 0.9338\n",
      "Accuracy after query 40: 0.9377\n",
      "Accuracy after query 41: 0.9386\n",
      "Accuracy after query 42: 0.9347\n",
      "Accuracy after query 43: 0.9407\n",
      "Accuracy after query 44: 0.9364\n",
      "Accuracy after query 45: 0.9458\n",
      "Accuracy after query 46: 0.9497\n",
      "Accuracy after query 47: 0.9441\n",
      "Accuracy after query 48: 0.9467\n",
      "Accuracy after query 49: 0.9443\n",
      "Accuracy after query 50: 0.9543\n",
      "Accuracy after query 51: 0.9503\n",
      "Accuracy after query 52: 0.9423\n",
      "Accuracy after query 53: 0.9557\n",
      "Accuracy after query 54: 0.9444\n",
      "Accuracy after query 55: 0.9554\n",
      "Accuracy after query 56: 0.9551\n",
      "Accuracy after query 57: 0.9580\n",
      "Accuracy after query 58: 0.9565\n",
      "Accuracy after query 59: 0.9545\n",
      "Accuracy after query 60: 0.9576\n",
      "Accuracy after query 61: 0.9556\n",
      "Accuracy after query 62: 0.9569\n",
      "Accuracy after query 63: 0.9638\n",
      "Accuracy after query 64: 0.9559\n",
      "Accuracy after query 65: 0.9582\n",
      "Accuracy after query 66: 0.9621\n",
      "Accuracy after query 67: 0.9606\n",
      "Accuracy after query 68: 0.9606\n",
      "Accuracy after query 69: 0.9613\n",
      "Accuracy after query 70: 0.9641\n",
      "Accuracy after query 71: 0.9658\n",
      "Accuracy after query 72: 0.9654\n",
      "Accuracy after query 73: 0.9665\n",
      "Accuracy after query 74: 0.9685\n",
      "Accuracy after query 75: 0.9677\n",
      "Accuracy after query 76: 0.9676\n",
      "Accuracy after query 77: 0.9676\n",
      "Accuracy after query 78: 0.9657\n",
      "Accuracy after query 79: 0.9687\n",
      "Accuracy after query 80: 0.9653\n",
      "Accuracy after query 81: 0.9673\n",
      "Accuracy after query 82: 0.9673\n",
      "Accuracy after query 83: 0.9726\n",
      "Accuracy after query 84: 0.9701\n",
      "Accuracy after query 85: 0.9728\n",
      "Accuracy after query 86: 0.9708\n",
      "Accuracy after query 87: 0.9717\n",
      "Accuracy after query 88: 0.9729\n",
      "Accuracy after query 89: 0.9744\n",
      "Accuracy after query 90: 0.9768\n",
      "Accuracy after query 91: 0.9730\n",
      "Accuracy after query 92: 0.9756\n",
      "Accuracy after query 93: 0.9738\n",
      "Accuracy after query 94: 0.9718\n",
      "Accuracy after query 95: 0.9727\n",
      "Accuracy after query 96: 0.9753\n",
      "Accuracy after query 97: 0.9741\n",
      "Accuracy after query 98: 0.9730\n",
      "Accuracy after query 99: 0.9768\n",
      "Accuracy after query 100: 0.9761\n"
     ]
    }
   ],
   "source": [
    "estimator = NeuralNetClassifier(Torch_Model,\n",
    "                                max_epochs=50,\n",
    "                                batch_size=128,\n",
    "                                lr=0.001,\n",
    "                                optimizer=torch.optim.Adam,\n",
    "                                criterion=torch.nn.CrossEntropyLoss,\n",
    "                                train_split=None,\n",
    "                                verbose=0,\n",
    "                                device=device)\n",
    "entropy_perf_hist = active_learning_procedure(max_entropy,\n",
    "                                              X_test,\n",
    "                                              y_test,\n",
    "                                              X_pool,\n",
    "                                              y_pool,\n",
    "                                              X_initial,\n",
    "                                              y_initial,\n",
    "                                              estimator,)"
   ]
  },
  {
   "cell_type": "code",
   "execution_count": null,
   "id": "a5cc4f97",
   "metadata": {
    "pycharm": {
     "name": "#%%\n"
    }
   },
   "outputs": [],
   "source": []
  },
  {
   "cell_type": "code",
   "execution_count": null,
   "id": "2a7e49cd",
   "metadata": {
    "pycharm": {
     "name": "#%%\n"
    }
   },
   "outputs": [],
   "source": []
  }
 ],
 "metadata": {
  "kernelspec": {
   "display_name": "Python 3 (ipykernel)",
   "language": "python",
   "name": "python3"
  },
  "language_info": {
   "codemirror_mode": {
    "name": "ipython",
    "version": 3
   },
   "file_extension": ".py",
   "mimetype": "text/x-python",
   "name": "python",
   "nbconvert_exporter": "python",
   "pygments_lexer": "ipython3",
   "version": "3.9.5"
  }
 },
 "nbformat": 4,
 "nbformat_minor": 5
}